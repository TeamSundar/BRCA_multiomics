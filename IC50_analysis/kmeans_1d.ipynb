{
 "cells": [
  {
   "cell_type": "code",
   "execution_count": 13,
   "metadata": {},
   "outputs": [],
   "source": [
    "import numpy as np\n",
    "import matplotlib.pyplot as plt\n",
    "import colorsys\n",
    "import sys\n",
    "\n",
    "K = 3   # number of centroids to compute\n",
    "numClusters = 3 # actual number of clusters to generate\n",
    "ptsPerCluster = 40  # number of points per actual cluster\n",
    "xCenterBounds = (-1, 1) # limits within which to place actual cluster centers"
   ]
  },
  {
   "cell_type": "code",
   "execution_count": 31,
   "metadata": {},
   "outputs": [],
   "source": [
    "# Randomly place cluster centers within the span of xCenterBounds.\n",
    "centers = np.random.random_sample((numClusters,))\n",
    "centers = centers * (xCenterBounds[1] - xCenterBounds[0]) + xCenterBounds[0]\n",
    "\n",
    "# Initialize array of data points.\n",
    "points = np.zeros((numClusters * ptsPerCluster,))\n",
    "\n",
    "# Normally distribute ptsPerCluster points around each center.\n",
    "stDev = 0.15\n",
    "for i in range(numClusters):\n",
    "    points[i*ptsPerCluster:(i+1)*ptsPerCluster] = (stDev * np.random.randn(ptsPerCluster) + centers[i])"
   ]
  },
  {
   "cell_type": "code",
   "execution_count": 34,
   "metadata": {},
   "outputs": [
    {
     "data": {
      "text/plain": [
       "array([ 0.80620235,  0.87191791,  0.35178854,  0.47258454,  0.66897667,\n",
       "        0.57681411,  0.65607773,  0.49148553,  0.50977189,  0.51973545,\n",
       "        0.77488149,  0.55501868,  0.77715027,  0.94374776,  0.79467148,\n",
       "        0.78872938,  0.79169857,  0.82223969,  0.98344952,  0.65775547,\n",
       "        0.52360065,  0.64837013,  0.63434691,  0.6840296 ,  0.69296484,\n",
       "        0.61839046,  0.9517058 ,  0.21217959,  0.75063573,  0.65039966,\n",
       "        0.4781838 ,  0.75584458,  0.81684683,  0.59062976,  0.52595489,\n",
       "        0.47403474,  0.25517958,  0.49098232,  0.73596868,  0.63746959,\n",
       "       -0.75270425, -0.43185686, -0.49162266, -0.62318013, -0.78068019,\n",
       "       -0.55121253, -0.64610879, -0.60893306, -0.77169293, -0.4961674 ,\n",
       "       -0.61282957, -0.94739329, -0.68200524, -0.84972928, -0.42457435,\n",
       "       -0.84305856, -0.84690389, -0.79479147, -0.63944308, -0.62430035,\n",
       "       -0.86617301, -0.49108874, -0.74539681, -0.66652314, -0.51303293,\n",
       "       -0.61042835, -0.51325673, -0.62832097, -0.83335171, -0.7140452 ,\n",
       "       -0.94550857, -0.60798102, -1.08590953, -0.79842502, -0.48229354,\n",
       "       -0.64456476, -0.73562946, -0.69813499, -0.86520143, -0.55655428,\n",
       "       -0.41143015, -0.7161817 , -0.40225826, -0.42644114, -0.49555011,\n",
       "       -0.33511184, -0.39135718, -0.5469977 , -0.48451922, -0.64639031,\n",
       "       -0.682932  , -0.69523399, -0.72850221, -0.10911595, -0.17754696,\n",
       "       -0.70020574, -0.53537437, -0.54572837, -0.49631579, -0.27098374,\n",
       "       -0.25895351, -0.61603012, -0.51248986, -0.57586196, -0.42574947,\n",
       "       -0.42435609, -0.57269577, -0.30555933, -0.54201437, -0.63667847,\n",
       "       -0.45837908, -0.3589769 , -0.60184421, -0.39752463, -0.40514848,\n",
       "       -0.29460631, -0.50260944, -0.54397151, -0.43322156, -0.59964411])"
      ]
     },
     "execution_count": 34,
     "metadata": {},
     "output_type": "execute_result"
    }
   ],
   "source": [
    "points"
   ]
  },
  {
   "cell_type": "code",
   "execution_count": 36,
   "metadata": {},
   "outputs": [],
   "source": [
    "# Randomly select K points as the initial centroid locations.\n",
    "centroids = np.zeros((K,))\n",
    "indices = []\n",
    "while len(indices) < K:\n",
    "    index = np.random.randint(0, numClusters * ptsPerCluster)\n",
    "    if not index in indices:\n",
    "        indices.append(index)\n",
    "centroids = points[indices]\n",
    "\n",
    "# Assign each point to its nearest centroid. Store this in classifications,\n",
    "# where each element will be an int from 0 to K-1.\n",
    "classifications = np.zeros((points.shape[0],), dtype=np.int)\n",
    "def assignPointsToCentroids():\n",
    "    for i in range(points.shape[0]):\n",
    "        smallestDistance = 0\n",
    "        for k in range(K):\n",
    "            distance = abs(points[i] - centroids[k])\n",
    "            if k == 0:\n",
    "                smallestDistance = distance\n",
    "                classifications[i] = k\n",
    "            elif distance < smallestDistance:\n",
    "                smallestDistance = distance\n",
    "                classifications[i] = k\n",
    "\n",
    "assignPointsToCentroids()"
   ]
  },
  {
   "cell_type": "code",
   "execution_count": 21,
   "metadata": {},
   "outputs": [],
   "source": [
    "# Define a function to recalculate the centroid of a cluster.\n",
    "def recalcCentroids():\n",
    "    for k in range(K):\n",
    "        if sum(classifications == k) > 0:\n",
    "            centroids[k] = sum(points[classifications == k]) / sum(classifications == k)"
   ]
  },
  {
   "cell_type": "code",
   "execution_count": 37,
   "metadata": {},
   "outputs": [
    {
     "data": {
      "image/png": "[encoded data removed]",
      "text/plain": [
       "<Figure size 432x288 with 1 Axes>"
      ]
     },
     "metadata": {
      "needs_background": "light"
     },
     "output_type": "display_data"
    }
   ],
   "source": [
    "# Generate a unique color for each of the K clusters using the HSV color scheme.\n",
    "# Simultaneously, initialize matplotlib line objects for each centroid and cluster.\n",
    "hues = np.linspace(0, 1, K+1)[:-1]\n",
    "\n",
    "fig, ax = plt.subplots()\n",
    "clusterPointsList = []\n",
    "centroidPointsList = []\n",
    "for k in range(K):\n",
    "    clusterColor = tuple(colorsys.hsv_to_rgb(hues[k], 0.8, 0.8))\n",
    "\n",
    "    clusterLineObj, = ax.plot([], [], ls='None', marker='x', color=clusterColor)\n",
    "    clusterPointsList.append(clusterLineObj)\n",
    "\n",
    "    centroidLineObj, = ax.plot([], [], ls='None', marker='o', \n",
    "        markeredgecolor='k', color=clusterColor)\n",
    "    centroidPointsList.append(centroidLineObj)\n",
    "iterText = ax.annotate('', xy=(0.01, 0.01), xycoords='axes fraction')"
   ]
  },
  {
   "cell_type": "code",
   "execution_count": 38,
   "metadata": {},
   "outputs": [
    {
     "data": {
      "text/plain": [
       "<Figure size 432x288 with 0 Axes>"
      ]
     },
     "metadata": {},
     "output_type": "display_data"
    },
    {
     "data": {
      "text/plain": [
       "<Figure size 432x288 with 0 Axes>"
      ]
     },
     "metadata": {},
     "output_type": "display_data"
    }
   ],
   "source": [
    "# Define a function to update the plot.\n",
    "def updatePlot(iteration):\n",
    "    for k in range(K):\n",
    "        xDataNew = points[classifications == k]\n",
    "        clusterPointsList[k].set_data(xDataNew, np.zeros((len(xDataNew),)))\n",
    "        centroidPointsList[k].set_data(centroids[k], 0)\n",
    "    iterText.set_text('i = {:d}'.format(iteration))\n",
    "    plt.savefig('./{:d}.png'.format(iteration))\n",
    "    plt.pause(0.5)\n",
    "\n",
    "dataRange = np.amax(points) - np.amin(points)\n",
    "ax.set_xlim(np.amin(points) - 0.05*dataRange, np.amax(points) + 0.05*dataRange)\n",
    "ax.set_ylim(-1, 1)\n",
    "iteration = 0\n",
    "updatePlot(iteration)\n",
    "plt.ion()\n",
    "plt.show()\n",
    "plt.savefig('fig.png')"
   ]
  },
  {
   "cell_type": "code",
   "execution_count": null,
   "metadata": {},
   "outputs": [],
   "source": [
    "# Execute and animate the algorithm with a while loop. Note that this is not the\n",
    "# best way to animate a matplotlib plot--the matplotlib animation module should be\n",
    "# used instead, but we will use a while loop here for simplicity.\n",
    "lastCentroids = centroids + 1\n",
    "while not np.array_equal(centroids, lastCentroids):\n",
    "    lastCentroids = np.copy(centroids)\n",
    "    recalcCentroids()\n",
    "    assignPointsToCentroids()\n",
    "    iteration += 1\n",
    "    updatePlot(iteration)\n",
    "\n",
    "pythonMajorVersion = sys.version_info[0]\n",
    "if pythonMajorVersion < 3:\n",
    "    raw_input(\"Press Enter to continue.\")\n",
    "else:\n",
    "    input(\"Press Enter to continue.\")"
   ]
  }
 ],
 "metadata": {
  "kernelspec": {
   "display_name": "Python 3",
   "language": "python",
   "name": "python3"
  },
  "language_info": {
   "codemirror_mode": {
    "name": "ipython",
    "version": 3
   },
   "file_extension": ".py",
   "mimetype": "text/x-python",
   "name": "python",
   "nbconvert_exporter": "python",
   "pygments_lexer": "ipython3",
   "version": "3.7.4"
  }
 },
 "nbformat": 4,
 "nbformat_minor": 2
}
