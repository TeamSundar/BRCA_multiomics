{
 "cells": [
  {
   "cell_type": "code",
   "execution_count": 2,
   "metadata": {},
   "outputs": [],
   "source": [
    "from sklearn.cluster import KMeans\n",
    "import numpy as np\n",
    "import pandas as pd\n",
    "import matplotlib.pyplot as plt\n",
    "from mpl_toolkits.mplot3d import Axes3D\n",
    "\n",
    "df = pd.read_csv(\"drug_resp.csv\", header = None)\n",
    "df = df.T\n",
    "\n",
    "f1 = df[0].values"
   ]
  },
  {
   "cell_type": "code",
   "execution_count": 6,
   "metadata": {},
   "outputs": [
    {
     "data": {
      "text/plain": [
       "array([3.44596542, 4.12436693, 3.44531661, 3.8072139 , 4.7491037 ,\n",
       "       3.54664952, 3.92667131, 4.50283979, 3.64987564, 2.47761955,\n",
       "       2.30746414, 3.48474091, 3.12856501, 5.53655962, 4.00476444,\n",
       "       5.28227855, 2.83104551, 3.31077395, 3.2641083 , 0.51482621,\n",
       "       2.52386528, 4.30714736, 5.14351358, 5.12024365, 4.46715692,\n",
       "       4.25235695, 4.30947019, 4.85290375, 5.20609217, 5.02308207,\n",
       "       4.46684143, 4.07934358, 2.20326592, 4.75116834, 5.87403604,\n",
       "       5.42133899, 1.80587183, 4.39844918, 3.85459223, 4.73986989,\n",
       "       2.21709767, 3.10415414, 4.08115024])"
      ]
     },
     "execution_count": 6,
     "metadata": {},
     "output_type": "execute_result"
    }
   ],
   "source": [
    "f1"
   ]
  },
  {
   "cell_type": "code",
   "execution_count": 3,
   "metadata": {},
   "outputs": [],
   "source": [
    "k_means = KMeans(algorithm='auto', copy_x=True, init='k-means++', max_iter=300,\n",
    "    n_clusters=2, n_init=10, n_jobs=None, precompute_distances='auto',\n",
    "    random_state=0, tol=0.0001, verbose=0)"
   ]
  },
  {
   "cell_type": "code",
   "execution_count": 8,
   "metadata": {},
   "outputs": [],
   "source": [
    "drug = f1\n",
    "drug_2d = drug.reshape(-1,1)\n",
    "k_means.fit(drug_2d)\n",
    "Z = k_means.predict(drug_2d)"
   ]
  },
  {
   "cell_type": "code",
   "execution_count": 9,
   "metadata": {
    "scrolled": true
   },
   "outputs": [
    {
     "data": {
      "text/plain": [
       "Text(0.5, 1.0, 'Kmeans cluster centroids')"
      ]
     },
     "execution_count": 9,
     "metadata": {},
     "output_type": "execute_result"
    },
    {
     "data": {
      "image/png": "[encoded data removed]",
      "text/plain": [
       "<Figure size 432x288 with 1 Axes>"
      ]
     },
     "metadata": {
      "needs_background": "light"
     },
     "output_type": "display_data"
    }
   ],
   "source": [
    "colors = ['m','g']\n",
    "centroids = k_means.cluster_centers_\n",
    "for n, y in enumerate(centroids):\n",
    "    plt.plot(1, y, marker='x', color=colors[n], ms=10)\n",
    "plt.title('Kmeans cluster centroids')"
   ]
  },
  {
   "cell_type": "code",
   "execution_count": 13,
   "metadata": {},
   "outputs": [
    {
     "data": {
      "text/plain": [
       "Text(0.5, 1.0, 'Points by cluster')"
      ]
     },
     "execution_count": 13,
     "metadata": {},
     "output_type": "execute_result"
    },
    {
     "data": {
      "image/png": "[encoded data removed]",
      "text/plain": [
       "<Figure size 432x288 with 1 Axes>"
      ]
     },
     "metadata": {
      "needs_background": "light"
     },
     "output_type": "display_data"
    }
   ],
   "source": [
    "# Plot each class as a separate colour\n",
    "n_clusters = 2\n",
    "f1_series = pd.Series(range(0, 43))\n",
    "\n",
    "for n in range(n_clusters):\n",
    "    # Filter data points to plot each in turn.\n",
    "    ys = f1[ Z==n ]\n",
    "    xs = f1_series[ Z==n ]\n",
    "\n",
    "    plt.scatter(xs, ys, color=colors[n])\n",
    "\n",
    "plt.title(\"Points by cluster\")"
   ]
  },
  {
   "cell_type": "code",
   "execution_count": 17,
   "metadata": {},
   "outputs": [
    {
     "name": "stdout",
     "output_type": "stream",
     "text": [
      "        IC50  Label\n",
      "0   0.514826      0\n",
      "1   1.805872      0\n",
      "2   2.203266      0\n",
      "3   2.217098      0\n",
      "4   2.307464      0\n",
      "5   2.477620      0\n",
      "6   2.523865      0\n",
      "7   2.831046      0\n",
      "8   3.104154      0\n",
      "9   3.128565      0\n",
      "10  3.264108      0\n",
      "11  3.310774      0\n",
      "12  3.445317      0\n",
      "13  3.445965      0\n",
      "14  3.484741      0\n",
      "15  3.546650      0\n",
      "16  3.649876      0\n",
      "17  3.807214      1\n",
      "18  3.854592      1\n",
      "19  3.926671      1\n",
      "20  4.004764      1\n",
      "21  4.079344      1\n",
      "22  4.081150      1\n",
      "23  4.124367      1\n",
      "24  4.252357      1\n",
      "25  4.307147      1\n",
      "26  4.309470      1\n",
      "27  4.398449      1\n",
      "28  4.466841      1\n",
      "29  4.467157      1\n",
      "30  4.502840      1\n",
      "31  4.739870      1\n",
      "32  4.749104      1\n",
      "33  4.751168      1\n",
      "34  4.852904      1\n",
      "35  5.023082      1\n",
      "36  5.120244      1\n",
      "37  5.143514      1\n",
      "38  5.206092      1\n",
      "39  5.282279      1\n",
      "40  5.421339      1\n",
      "41  5.536560      1\n",
      "42  5.874036      1\n"
     ]
    }
   ],
   "source": [
    "drug1 = pd.DataFrame()\n",
    "drug1['IC50'] = df.iloc[:][0] \n",
    "drug1['Label'] = Z\n",
    "drug1 = drug1.sort_values(by ='IC50')\n",
    "drug1.reset_index(drop=True,inplace=True)\n",
    "print(drug1)\n",
    "#print(drug1.iloc[1][:])"
   ]
  }
 ],
 "metadata": {
  "kernelspec": {
   "display_name": "Python 3",
   "language": "python",
   "name": "python3"
  },
  "language_info": {
   "codemirror_mode": {
    "name": "ipython",
    "version": 3
   },
   "file_extension": ".py",
   "mimetype": "text/x-python",
   "name": "python",
   "nbconvert_exporter": "python",
   "pygments_lexer": "ipython3",
   "version": "3.7.4"
  }
 },
 "nbformat": 4,
 "nbformat_minor": 2
}
