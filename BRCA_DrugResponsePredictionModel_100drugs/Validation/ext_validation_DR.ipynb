{
 "cells": [
  {
   "cell_type": "code",
   "execution_count": 1,
   "metadata": {},
   "outputs": [],
   "source": [
    "import xlrd\n",
    "import csv\n",
    "import pandas as pd\n",
    "from tqdm import tqdm\n",
    "\n",
    "# This function spits a csv file in your curr working directory\n",
    "def xls2csv(filepath, sheet):\n",
    "    #wb = xlrd.open_workbook('4omics-commonPatients/inputfiles_process/'+filename+'.xlsx')\n",
    "    wb = xlrd.open_workbook(filepath)\n",
    "    sh = wb.sheet_by_name(sheet)\n",
    "    your_csv_file = open(filepath.split('.')[0]+'.csv', 'w')\n",
    "    wr = csv.writer(your_csv_file, quoting=csv.QUOTE_ALL)\n",
    "    for rownum in range(sh.nrows):\n",
    "        wr.writerow(sh.row_values(rownum))\n",
    "    your_csv_file.close()\n",
    "    return None"
   ]
  },
  {
   "cell_type": "code",
   "execution_count": 2,
   "metadata": {},
   "outputs": [],
   "source": [
    "# # DONOT, I repeat DONOT run this section if csv files are already available\n",
    "# #Convert xlsx omics file to csv for easy parsing\n",
    "# xls2csv('validation_files\\Input\\CNV_CommonPatientsAndGenes_TCGA_DATA.xlsx', 'Sheet1')\n",
    "# xls2csv('validation_files\\Input\\meth_Commongenes-and-CommonTCGAPatients_DATA.xlsx', 'Sheet1')\n",
    "# xls2csv('validation_files\\Input\\Rna_CommonPatientsAndGenes_TCGA_DATA.xlsx', 'Sheet1')\n",
    "# xls2csv('validation_files\\Input\\Mutation_CommonPatientsAndGenes_TCGA_DATA.xlsx', 'Sheet1')\n",
    "# # xls2csv('bioinfo16', 'Sheet1')"
   ]
  },
  {
   "cell_type": "code",
   "execution_count": 3,
   "metadata": {},
   "outputs": [
    {
     "output_type": "execute_result",
     "data": {
      "text/plain": [
       "(26, 9, 15, 26)"
      ]
     },
     "metadata": {},
     "execution_count": 3
    }
   ],
   "source": [
    "# Import list of NCA selected genes\n",
    "# Change the path as required\n",
    "cnv_genes = pd.read_csv('4omics-commonPatients\\inputfiles_process\\cnv_genes.csv', header=None).values.tolist()\n",
    "meth_genes = pd.read_csv('4omics-commonPatients\\inputfiles_process\\meth_genes.csv', header=None).values.tolist()\n",
    "mrna_genes = pd.read_csv('4omics-commonPatients\\inputfiles_process\\mrna_genes.csv', header=None).values.tolist()\n",
    "mut_genes = pd.read_csv('4omics-commonPatients\\inputfiles_process\\mut_genes.csv', header=None).values.tolist()\n",
    "len(cnv_genes[0]), len(meth_genes[0]), len(mrna_genes[0]), len(mut_genes[0])"
   ]
  },
  {
   "cell_type": "code",
   "execution_count": 4,
   "metadata": {},
   "outputs": [],
   "source": [
    "# Import the DR validation file\n",
    "# Change the path as required\n",
    "bioinfo16=pd.read_csv('csv_files/bioinfo16.csv')[['bcr_patient_barcode', 'drug_name', 'measure_of_response']]\n",
    "bioinfo16['bcr_patient_barcode'] = bioinfo16['bcr_patient_barcode'].astype(str)+'_01'\n",
    "bioinfo16 = bioinfo16[bioinfo16['drug_name'].isin(['Vinblastine', 'Gemcitabine', 'Tamoxifen', 'Docetaxel'])] \n",
    "\n",
    "for i in bioinfo16.index:\n",
    "    if bioinfo16.loc[i]['measure_of_response'] in ['Stable Disease', 'Clinical Progressive Disease']:\n",
    "        bioinfo16.loc[i]['measure_of_response']=1\n",
    "    elif bioinfo16.loc[i]['measure_of_response'] in ['Complete Response', 'Partial Response']:\n",
    "        bioinfo16.loc[i]['measure_of_response']=0"
   ]
  },
  {
   "cell_type": "code",
   "execution_count": 5,
   "metadata": {},
   "outputs": [],
   "source": [
    "# INPORT VALIDATION FILES\n",
    "# Convert xlsx omics file to csv for easy parsing\n",
    "cnv = pd.read_csv('validation_files/Input/CNV_CommonPatientsAndGenes_TCGA_DATA.csv').set_index('Unnamed: 0').loc[cnv_genes[0],:]\n",
    "meth = pd.read_csv('validation_files/Input/meth_Commongenes-and-CommonTCGAPatients_DATA.csv').set_index('Unnamed: 0').T.loc[meth_genes[0],:]\n",
    "mrna = pd.read_csv('validation_files/Input/Rna_CommonPatientsAndGenes_TCGA_DATA.csv').set_index('Unnamed: 0').loc[mrna_genes[0],:]\n",
    "mut = pd.read_csv('validation_files/Input/Mutation_CommonPatientsAndGenes_TCGA_DATA.csv').set_index('Unnamed: 0').loc[mut_genes[0],:]"
   ]
  },
  {
   "cell_type": "code",
   "execution_count": 6,
   "metadata": {},
   "outputs": [
    {
     "output_type": "stream",
     "name": "stdout",
     "text": [
      "(26, 32) (9, 32) (15, 32) (26, 32)\n"
     ]
    }
   ],
   "source": [
    "# To extract common patients for validation\n",
    "cnv_val=cnv[list(set(list(cnv)) & set(list(bioinfo16['bcr_patient_barcode'])))]\n",
    "mrna_val=mrna[list(set(list(mrna)) & set(list(bioinfo16['bcr_patient_barcode'])))]\n",
    "mut_val=mut[list(set(list(mut)) & set(list(bioinfo16['bcr_patient_barcode'])))]\n",
    "meth_val=meth[list(set(list(cnv)) & set(list(bioinfo16['bcr_patient_barcode'])))]\n",
    "\n",
    "# Save vaildation files to xlsx\n",
    "cnv_val.to_excel(\"validation_files_out_2/cnv_val.xlsx\"), mrna_val.to_excel(\"validation_files_out_2/mrna_val.xlsx\") , mut_val.to_excel(\"validation_files_out_2/mut_val.xlsx\") , meth_val.to_excel(\"validation_files_out_2/meth_val.xlsx\") \n",
    "print(cnv_val.shape, meth_val.shape, mrna_val.shape, mut_val.shape)"
   ]
  },
  {
   "cell_type": "code",
   "execution_count": 7,
   "metadata": {},
   "outputs": [
    {
     "output_type": "stream",
     "name": "stdout",
     "text": [
      "Common Drugs: ['Docetaxel', 'Gemcitabine', 'Vinblastine', 'Tamoxifen']\n"
     ]
    }
   ],
   "source": [
    "# Import MATLAB results of drug responses for validation cohort\n",
    "# model_y_val.csv is the validation output for 66 common patients\n",
    "# DR.txt is a refernce to extract drug names\n",
    "y_val=pd.read_csv('model_y_val2.csv', header=None).T\n",
    "y_val.columns=list(pd.read_csv('DR.txt', sep=','))\n",
    "y_val.index=list(mrna_val)\n",
    "\n",
    "#Extract data of common drugs\n",
    "DR_val=y_val[list(set(list(y_val)) & set(bioinfo16['drug_name'].unique()))]\n",
    "print('Common Drugs:', list(DR_val))"
   ]
  },
  {
   "cell_type": "code",
   "execution_count": 8,
   "metadata": {},
   "outputs": [
    {
     "output_type": "stream",
     "name": "stderr",
     "text": [
      "100%|██████████| 32/32 [00:00<00:00, 191.62it/s]\n"
     ]
    }
   ],
   "source": [
    "# Binarize drug responses to resistant and senstive \n",
    "# 0=Resistant\n",
    "# 1= Sensitive\n",
    "\n",
    "thres = pd.read_csv('thres.csv', header=None)\n",
    "thres.index=list(pd.read_csv('DR.txt', sep=','))\n",
    "\n",
    "for index in tqdm(DR_val.index): \n",
    "    for drug in list(DR_val): \n",
    "        if DR_val[drug][index]>=DR_val.mean(axis=0)[drug]:\n",
    "        #if DR_val[drug][index]>thres.loc[drug].values[0]:\n",
    "            DR_val[drug][index]=1\n",
    "        elif DR_val[drug][index]<DR_val.mean(axis=0)[drug]:\n",
    "        #elif DR_val[drug][index]<=thres.loc[drug].values[0]:\n",
    "            DR_val[drug][index]=0"
   ]
  },
  {
   "cell_type": "code",
   "execution_count": 20,
   "metadata": {},
   "outputs": [
    {
     "output_type": "stream",
     "name": "stdout",
     "text": [
      "Number of patients available for each drug: 11 1 24 1\n"
     ]
    }
   ],
   "source": [
    "def intersection(lst1, lst2): \n",
    "    lst3 = [value for value in lst1 if value in lst2] \n",
    "    return lst3 \n",
    "\n",
    "# Extract total patients for each drug\n",
    "ForDocetaxel = bioinfo16[bioinfo16['drug_name']=='Docetaxel']\n",
    "ForVinblastine = bioinfo16[bioinfo16['drug_name']=='Vinblastine']\n",
    "ForTamoxifen = bioinfo16[bioinfo16['drug_name']=='Tamoxifen']\n",
    "ForGemcitabine = bioinfo16[bioinfo16['drug_name']=='Gemcitabine']\n",
    "\n",
    "print('Number of patients available for each drug:', len(intersection(ForTamoxifen['bcr_patient_barcode'].values, DR_val.index)),\n",
    "        len(intersection(ForVinblastine['bcr_patient_barcode'].values, DR_val.index)),\n",
    "        len(intersection(ForDocetaxel['bcr_patient_barcode'].values, DR_val.index)),\n",
    "        len(intersection(ForGemcitabine['bcr_patient_barcode'].values, DR_val.index)))\n",
    "\n",
    "# Predication for each drug\n",
    "Tamoxifen_predicted = DR_val[DR_val.index.isin(intersection(ForTamoxifen['bcr_patient_barcode'].values, DR_val.index))]['Tamoxifen']\n",
    "Vinblastine_predicted = DR_val[DR_val.index.isin(intersection(ForVinblastine['bcr_patient_barcode'].values, DR_val.index))]['Vinblastine']\n",
    "Docetaxel_predicted = DR_val[DR_val.index.isin(intersection(ForDocetaxel['bcr_patient_barcode'].values, DR_val.index))]['Docetaxel']\n",
    "Gemcitabine_predicted = DR_val[DR_val.index.isin(intersection(ForGemcitabine['bcr_patient_barcode'].values, DR_val.index))]['Gemcitabine']\n",
    "\n",
    "# True value for each drug\n",
    "Tamoxifen_true = ForTamoxifen[ForTamoxifen['bcr_patient_barcode'].isin(intersection(ForTamoxifen['bcr_patient_barcode'].values, DR_val.index))]\n",
    "Vinblastine_true = ForVinblastine[ForVinblastine['bcr_patient_barcode'].isin(intersection(ForVinblastine['bcr_patient_barcode'].values, DR_val.index))]\n",
    "Docetaxel_true = ForDocetaxel[ForDocetaxel['bcr_patient_barcode'].isin(intersection(ForDocetaxel['bcr_patient_barcode'].values, DR_val.index))]\n",
    "Gemcitabine_true = ForGemcitabine[ForGemcitabine['bcr_patient_barcode'].isin(intersection(ForGemcitabine['bcr_patient_barcode'].values, DR_val.index))]"
   ]
  },
  {
   "cell_type": "code",
   "execution_count": 22,
   "metadata": {},
   "outputs": [
    {
     "output_type": "stream",
     "name": "stdout",
     "text": [
      "Tamoxifin: 0.5 (11 patients)\n",
      "Vinblastine: 1.0 (1 patients)\n",
      "Docetaxel: 0.7916666666666666 (24 patients)\n",
      "Gemcitabine: 1.0 (1 patients)\n"
     ]
    }
   ],
   "source": [
    "# Calculate accuracy\n",
    "def calAcc(predicted, true):\n",
    "    score = 0\n",
    "    for patient in predicted.index:\n",
    "        if true[true['bcr_patient_barcode']==patient]['measure_of_response'].values[0]==predicted[patient]:\n",
    "            score+=1\n",
    "    accuracy = score/len(predicted.index)\n",
    "    return(accuracy)\n",
    "\n",
    "print('Tamoxifin:', calAcc(Tamoxifen_predicted, Tamoxifen_true), '(11 patients)')\n",
    "print('Vinblastine:',calAcc(Vinblastine_predicted, Vinblastine_true), '(1 patients)')\n",
    "print('Docetaxel:',calAcc(Docetaxel_predicted, Docetaxel_true), '(24 patients)')\n",
    "print('Gemcitabine:',calAcc(Gemcitabine_predicted, Gemcitabine_true), '(1 patients)')"
   ]
  }
 ],
 "metadata": {
  "language_info": {
   "codemirror_mode": {
    "name": "ipython",
    "version": 3
   },
   "file_extension": ".py",
   "mimetype": "text/x-python",
   "name": "python",
   "nbconvert_exporter": "python",
   "pygments_lexer": "ipython3",
   "version": "3.7.4-final"
  },
  "orig_nbformat": 2,
  "kernelspec": {
   "name": "python3",
   "display_name": "Python 3.7.4 64-bit",
   "metadata": {
    "interpreter": {
     "hash": "20f8a2c76d30cda3f8a73c37e600ed73adc8ec802f88dbe7acf3318107b0ab7b"
    }
   }
  }
 },
 "nbformat": 4,
 "nbformat_minor": 2
}